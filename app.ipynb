{
 "cells": [
  {
   "cell_type": "code",
   "execution_count": null,
   "metadata": {},
   "outputs": [],
   "source": [
    "%pip install -qU elasticsearch"
   ]
  },
  {
   "cell_type": "code",
   "execution_count": 5,
   "metadata": {},
   "outputs": [
    {
     "data": {
      "text/plain": [
       "True"
      ]
     },
     "execution_count": 5,
     "metadata": {},
     "output_type": "execute_result"
    }
   ],
   "source": [
    "from elasticsearch import Elasticsearch, helpers, exceptions\n",
    "import json\n",
    "import time\n",
    "import os\n",
    "from dotenv import load_dotenv\n",
    "load_dotenv()"
   ]
  },
  {
   "cell_type": "code",
   "execution_count": 7,
   "metadata": {},
   "outputs": [
    {
     "name": "stdout",
     "output_type": "stream",
     "text": [
      "{'name': 'instance-0000000000', 'cluster_name': '69f730990be14babb963969a8a27e740', 'cluster_uuid': 'KXh92WjYTomcj9zolDs4Vw', 'version': {'number': '8.15.0', 'build_flavor': 'default', 'build_type': 'docker', 'build_hash': '1a77947f34deddb41af25e6f0ddb8e830159c179', 'build_date': '2024-08-05T10:05:34.233336849Z', 'build_snapshot': False, 'lucene_version': '9.11.1', 'minimum_wire_compatibility_version': '7.17.0', 'minimum_index_compatibility_version': '7.0.0'}, 'tagline': 'You Know, for Search'}\n"
     ]
    }
   ],
   "source": [
    "client = Elasticsearch(\n",
    "    cloud_id=os.getenv(\"ELASTIC_SEARCH_CLOUD_ID\"),\n",
    "    api_key=os.getenv(\"ELASTIC_SEARCH_API_KEY\"),\n",
    ")\n",
    "\n",
    "print(client.info())"
   ]
  },
  {
   "cell_type": "code",
   "execution_count": 9,
   "metadata": {},
   "outputs": [
    {
     "name": "stdout",
     "output_type": "stream",
     "text": [
      "Model deleted successfully, We will proceed with creating one\n"
     ]
    },
    {
     "data": {
      "text/plain": [
       "ObjectApiResponse({'model_id': '.elser_model_2', 'model_type': 'pytorch', 'model_package': {'packaged_model_id': 'elser_model_2', 'model_repository': 'https://ml-models.elastic.co', 'minimum_version': '11.0.0', 'size': 438123914, 'sha256': '2e0450a1c598221a919917cbb05d8672aed6c613c028008fedcd696462c81af0', 'metadata': {}, 'tags': [], 'vocabulary_file': 'elser_model_2.vocab.json'}, 'created_by': 'api_user', 'version': '12.0.0', 'create_time': 1724010127309, 'model_size_bytes': 0, 'estimated_operations': 0, 'license_level': 'platinum', 'description': 'Elastic Learned Sparse EncodeR v2', 'tags': ['elastic'], 'metadata': {}, 'input': {'field_names': ['text_field']}, 'inference_config': {'text_expansion': {'vocabulary': {'index': '.ml-inference-native-000002'}, 'tokenization': {'bert': {'do_lower_case': True, 'with_special_tokens': True, 'max_sequence_length': 512, 'truncate': 'first', 'span': -1}}}}, 'location': {'index': {'name': '.ml-inference-native-000002'}}})"
      ]
     },
     "execution_count": 9,
     "metadata": {},
     "output_type": "execute_result"
    }
   ],
   "source": [
    "# delete model if already downloaded and deployed\n",
    "try:\n",
    "    client.ml.delete_trained_model(model_id=\".elser_model_2\", force=True)\n",
    "    print(\"Model deleted successfully, We will proceed with creating one\")\n",
    "except exceptions.NotFoundError:\n",
    "    print(\"Model doesn't exist, but We will proceed with creating one\")\n",
    "\n",
    "# Creates the ELSER model configuration. Automatically downloads the model if it doesn't exist.\n",
    "client.ml.put_trained_model(\n",
    "    model_id=\".elser_model_2\", input={\"field_names\": [\"text_field\"]}\n",
    ")"
   ]
  },
  {
   "cell_type": "code",
   "execution_count": 10,
   "metadata": {},
   "outputs": [
    {
     "name": "stdout",
     "output_type": "stream",
     "text": [
      "ELSER Model is downloaded but not ready to be deployed.\n",
      "ELSER Model is downloaded but not ready to be deployed.\n",
      "ELSER Model is downloaded but not ready to be deployed.\n",
      "ELSER Model is downloaded but not ready to be deployed.\n",
      "ELSER Model is downloaded but not ready to be deployed.\n",
      "ELSER Model is downloaded but not ready to be deployed.\n",
      "ELSER Model is downloaded and ready to be deployed.\n"
     ]
    }
   ],
   "source": [
    "while True:\n",
    "    status = client.ml.get_trained_models(\n",
    "        model_id=\".elser_model_2\", include=\"definition_status\"\n",
    "    )\n",
    "\n",
    "    if status[\"trained_model_configs\"][0][\"fully_defined\"]:\n",
    "        print(\"ELSER Model is downloaded and ready to be deployed.\")\n",
    "        break\n",
    "    else:\n",
    "        print(\"ELSER Model is downloaded but not ready to be deployed.\")\n",
    "    time.sleep(5)"
   ]
  },
  {
   "cell_type": "code",
   "execution_count": 11,
   "metadata": {},
   "outputs": [
    {
     "name": "stdout",
     "output_type": "stream",
     "text": [
      "ELSER Model is currently being deployed.\n",
      "ELSER Model is currently being deployed.\n",
      "ELSER Model has been successfully deployed.\n"
     ]
    }
   ],
   "source": [
    "# Start trained model deployment if not already deployed\n",
    "client.ml.start_trained_model_deployment(\n",
    "    model_id=\".elser_model_2\", number_of_allocations=1, wait_for=\"starting\"\n",
    ")\n",
    "\n",
    "while True:\n",
    "    status = client.ml.get_trained_models_stats(\n",
    "        model_id=\".elser_model_2\",\n",
    "    )\n",
    "    if status[\"trained_model_stats\"][0][\"deployment_stats\"][\"state\"] == \"started\":\n",
    "        print(\"ELSER Model has been successfully deployed.\")\n",
    "        break\n",
    "    else:\n",
    "        print(\"ELSER Model is currently being deployed.\")\n",
    "    time.sleep(5)"
   ]
  },
  {
   "cell_type": "code",
   "execution_count": 12,
   "metadata": {},
   "outputs": [
    {
     "data": {
      "text/plain": [
       "ObjectApiResponse({'acknowledged': True})"
      ]
     },
     "execution_count": 12,
     "metadata": {},
     "output_type": "execute_result"
    }
   ],
   "source": [
    "client.ingest.put_pipeline(\n",
    "    id=\"elser-ingest-pipeline\",\n",
    "    description=\"Ingest pipeline for ELSER\",\n",
    "    processors=[\n",
    "        {\n",
    "            \"inference\": {\n",
    "                \"model_id\": \".elser_model_2\",\n",
    "                \"input_output\": [\n",
    "                    {\"input_field\": \"complaint_what_happened\", \"output_field\": \"plot_embedding\"}\n",
    "                ],\n",
    "            }\n",
    "        }\n",
    "    ],\n",
    ")"
   ]
  },
  {
   "cell_type": "code",
   "execution_count": 13,
   "metadata": {},
   "outputs": [
    {
     "data": {
      "text/plain": [
       "ObjectApiResponse({'acknowledged': True, 'shards_acknowledged': True, 'index': 'complaints'})"
      ]
     },
     "execution_count": 13,
     "metadata": {},
     "output_type": "execute_result"
    }
   ],
   "source": [
    "client.indices.delete(index=\"complaints\", ignore_unavailable=True)\n",
    "client.indices.create(\n",
    "    index=\"complaints\",\n",
    "    settings={\"index\": {\"default_pipeline\": \"elser-ingest-pipeline\"}},\n",
    "    mappings={\n",
    "        \"properties\": {\n",
    "            \"complaint_what_happened\" :{\"type\": \"text\"},\n",
    "            \"plot_embedding\": {\"type\": \"sparse_vector\"},\n",
    "        }\n",
    "    },\n",
    ")"
   ]
  },
  {
   "cell_type": "code",
   "execution_count": 14,
   "metadata": {},
   "outputs": [],
   "source": [
    "import psycopg2\n",
    "from config import config\n",
    "import json"
   ]
  },
  {
   "cell_type": "code",
   "execution_count": 15,
   "metadata": {},
   "outputs": [
    {
     "name": "stdout",
     "output_type": "stream",
     "text": [
      "Connecting to database\n"
     ]
    }
   ],
   "source": [
    "connection = None\n",
    "try:\n",
    "    params = config()\n",
    "    print(\"Connecting to database\")\n",
    "    connection = psycopg2.connect(**params)\n",
    "\n",
    "    # Create cursor\n",
    "    crsr = connection.cursor()\n",
    "    crsr.execute(\"SELECT * FROM complaints\")\n",
    "    res = crsr.fetchall()\n",
    "    for r in res:\n",
    "        complaint = r[4]\n",
    "        client.index(index=\"complaints\", id=r[0], document=complaint)\n",
    "\n",
    "    crsr.close()\n",
    "except Exception as error:\n",
    "    print(error)\n",
    "finally:\n",
    "    if connection is not None:\n",
    "        connection.close()\n",
    "        print(\"Database conn terminated\")"
   ]
  },
  {
   "cell_type": "code",
   "execution_count": 45,
   "metadata": {},
   "outputs": [
    {
     "name": "stderr",
     "output_type": "stream",
     "text": [
      "C:\\Users\\daved\\AppData\\Local\\Temp\\ipykernel_21960\\196691972.py:15: ElasticsearchWarning: text_expansion is deprecated. Use sparse_vector instead.\n",
      "  response = client.search(\n"
     ]
    }
   ],
   "source": [
    "user_complaint = \"\"\"My business is based in California, but I reside in Arizona. I planned a get-together and business meeting, and a family friend recommended a local pizzeria that offers such services. The owner requested the full amount upfront, plus a credit card on file. Since it was a referral, I didn’t think much of it. The deposit was supposed to be around XXXX. However, the problems began shortly after. A few days later, I noticed that I was charged approximately XXXX. When I contacted the owner via text message, he said he would look into it and get back to me, but the issue remained unresolved.\n",
    "\n",
    "Frustrated, I asked to cancel the service altogether. XXXX or XXXX asked for a week to process the refund, and I agreed. Two weeks passed, and I ended up filing a dispute with my bank, providing them with the text messages that included information about the incorrect charge and the owner’s promise to refund me. However, the bank came back to me stating that I had actually been there and used the services.\n",
    "\n",
    "I explained to the bank that I was in a different state at the time, but they sent me documents showing a receipt with a signature they claimed was mine. I informed them that the signature was not mine and that my signature on record with the bank is different. To this day, the issue remains unresolved and is still under investigation.\n",
    "\n",
    "I have also filed a complaint with XXXX XXXX Office of Consumer Protection Agency, but I have yet to receive a response.\n",
    "\n",
    "Your case number: XXXX\n",
    "\n",
    "This issue is with Chase Bank XXXX\n",
    "\n",
    "Please advise on what steps I can take next.\"\"\"\n",
    "\n",
    "response = client.search(\n",
    "    index=\"complaints\",\n",
    "    size=3,\n",
    "    query={\n",
    "        \"text_expansion\": {\n",
    "            \"plot_embedding\": {\n",
    "                \"model_id\": \".elser_model_2\",\n",
    "                \"model_text\": user_complaint,\n",
    "            }\n",
    "        }\n",
    "    },\n",
    ")\n",
    "\n",
    "related_ids = []\n",
    "\n",
    "for hit in response[\"hits\"][\"hits\"]:\n",
    "    related_ids.append(hit[\"_id\"])"
   ]
  },
  {
   "cell_type": "code",
   "execution_count": 46,
   "metadata": {},
   "outputs": [
    {
     "name": "stdout",
     "output_type": "stream",
     "text": [
      "Connecting to database\n",
      "Database conn terminated\n",
      "{\"product\": \"Credit card\", \"complaint_what_happened\": \"On XX/XX/year>, I booked a hotel in XXXX through XXXX XXXX XXXX using my Chase Freedom Flex card. The transaction amounted to {$98.00} and was recorded under Trip ID XXXX. \\n\\nDue to a severe flight delay, I arrived in XXXX at XXXX XXXX  on XX/XX/year>. Given the significant disruption to my travel plans, I contacted XXXX customer service to inquire about canceling my hotel reservation and obtaining a refund. During this call, the customer service representative assured me that a refund was possible and initiated Case number XXXX to process my request. The representative informed me that I did not need to take any further action and that the case would be resolved within 48 hours. \\n\\nBased on this assurance, I did not check into the hotel and relied on the promise of a refund. However, after waiting beyond the promised timeframe without receiving any communication or updates, I contacted XXXX XXXX to follow up on the status of my refund request. To my frustration, I received conflicting information from XXXX XXXX representatives, contradicting the initial assurance that a refund would be processed. \\n\\nDespite multiple follow-up attempts, I have not received a satisfactory resolution or clear communication regarding the status of my refund request. The inconsistency and lack of transparency in handling this matter have caused significant inconvenience and frustration. \\n\\nI am seeking assistance from the Consumer Financial Protection Bureau to investigate this matter and ensure that XXXX XXXX honors the initial assurance of a refund due to the exceptional circumstances caused by the flight delay. \\n\\nThank you for your attention to this matter.\", \"date_sent_to_company\": \"2024-05-18T12:00:00-05:00\", \"issue\": \"Problem with a purchase shown on your statement\", \"sub_product\": \"General-purpose credit card or charge card\", \"zip_code\": \"11354\", \"tags\": null, \"complaint_id\": \"9042665\", \"timely\": \"Yes\", \"consumer_consent_provided\": \"Consent provided\", \"company_response\": \"Closed with explanation\", \"submitted_via\": \"Web\", \"company\": \"JPMORGAN CHASE & CO.\", \"date_received\": \"2024-05-18T12:00:00-05:00\", \"state\": \"NY\", \"consumer_disputed\": \"N/A\", \"company_public_response\": null, \"sub_issue\": \"Credit card company isn't resolving a dispute about a purchase on your statement\"}\n",
      "{\"product\": \"Credit card\", \"complaint_what_happened\": \"On XX/XX/year>, my XXXX  charged our credit card for some car parts from XXXX ( It was a charge of {$560.00} ). He told me about it, so once the charge was made and processed, I went ahead and started a My Chase Plan on it. After I began the plan, I realized that the XXXX charge was entirely refunded to us on the card ( my XXXX  didn't communicate this with me, and I didn't think to look for a refund on this amount on our card ). I called Chase on XX/XX/year>, to let them know that I had accidentally started the plan and I wanted to cancel it. The person over the phone told me that once the plan was processed, that it would recognize the refund and take care of itself. Since they told me this, I didn't think to follow-up on it until I noticed that the plan was still active later on. I called Chase back on XX/XX/year>, and explained the situation to them and asked them if they could cancel the plan. Their response was that once the plan is activated, they generally could not cancel it. The representative that I talked to that day said he would try to escalate it and see if their team could do anything about it. I asked him if they would be sending me a confirmation email once it gets processed and he said they don't do that and that if changes are made, that it would reflect on the card. He advised me to call back after XXXX business days if I didn't see a change on my account. During the time, I had a medical event I was dealing with and wasn't able to follow-up after XXXX business days, so I finally called back on XX/XX/year>. On that day, I was told that they had no record of my request on XX/XX/year>, and that they would try to escalate the issue for resolution [ again ] and to contact them in XXXX business days if I didn't see a change. On XX/XX/XXXX, I received a letter stating that they couldn't cancel the plan, so I decided to call them back that day. When I got a representative on the phone, the person stated that they could not cancel the plan anymore and that if I had called in earlier when the plan was activated ( which I did ), that they might have been able to do something. I asked to speak to a XXXX so they could explain to me why I had to pay an amount on this plan that had already been refunded. When I talked to the XXXX, she explained to me that the amount that was refunded was credited to a different MY Chase Plan I have active and that I wasn't really paying that amount. I understood that, but I asked her about the fees the plan is charging on a monthly basis. She explained that since the plan could not be cancelled, they couldn't do anything about reversing and/or stopping the fees that are being charged. I really don't think this is fair, considering that now I'm paying fees for an amount that was originally refunded.\", \"date_sent_to_company\": \"2024-05-30T12:00:00-05:00\", \"issue\": \"Fees or interest\", \"sub_product\": \"General-purpose credit card or charge card\", \"zip_code\": \"90044\", \"tags\": null, \"complaint_id\": \"9137931\", \"timely\": \"Yes\", \"consumer_consent_provided\": \"Consent provided\", \"company_response\": \"Closed with explanation\", \"submitted_via\": \"Web\", \"company\": \"JPMORGAN CHASE & CO.\", \"date_received\": \"2024-05-30T12:00:00-05:00\", \"state\": \"CA\", \"consumer_disputed\": \"N/A\", \"company_public_response\": null, \"sub_issue\": \"Problem with fees\"}\n",
      "{\"product\": \"Credit card\", \"complaint_what_happened\": \"I was wrongly charged by a pizzeria on XX/XX/year>. The next day I called Capital One to request a refund of the amount, the same was credited to my account but 30 days later I was charged with the claim that there was no refund authorized by the restaurant and that I should contact them. I tried for several days to call or find the website or address of the place without any success. I explained that it was a company without the capacity or availability of access for customers. I was ignored and charged XXXX for a service that I did not receive and I had to pay my bill which was higher than planned for the month, causing me to lose points on my credit score. I just want my money back, that's all.\", \"date_sent_to_company\": \"2024-06-09T12:00:00-05:00\", \"issue\": \"Problem with a purchase shown on your statement\", \"sub_product\": \"General-purpose credit card or charge card\", \"zip_code\": \"27028\", \"tags\": null, \"complaint_id\": \"9213517\", \"timely\": \"Yes\", \"consumer_consent_provided\": \"Consent provided\", \"company_response\": \"Closed with explanation\", \"submitted_via\": \"Web\", \"company\": \"CAPITAL ONE FINANCIAL CORPORATION\", \"date_received\": \"2024-06-09T12:00:00-05:00\", \"state\": \"NC\", \"consumer_disputed\": \"N/A\", \"company_public_response\": null, \"sub_issue\": \"Card was charged for something you did not purchase with the card\"}\n",
      "\n"
     ]
    }
   ],
   "source": [
    "related_records = []\n",
    "connection = None\n",
    "\n",
    "try:\n",
    "    params = config()\n",
    "    print(\"Connecting to database\")\n",
    "    connection = psycopg2.connect(**params)\n",
    "    \n",
    "    cursor = connection.cursor()\n",
    "    cursor.execute(\"SELECT * FROM complaints WHERE _id IN %s\", (tuple(related_ids),))\n",
    "    related_records = cursor.fetchall()\n",
    "    cursor.close()\n",
    "    \n",
    "except:\n",
    "    print(\"error\")\n",
    "    \n",
    "finally:\n",
    "    if connection is not None:\n",
    "        connection.close()\n",
    "        print(\"Database conn terminated\")\n",
    "\n",
    "related_records_str = \"\"\n",
    "\n",
    "for record in related_records:\n",
    "    related_records_str += json.dumps(record[4]) + \"\\n\"\n",
    "\n",
    "print(related_records_str)    \n"
   ]
  },
  {
   "cell_type": "code",
   "execution_count": null,
   "metadata": {},
   "outputs": [],
   "source": [
    "%pip install groq\n",
    "from groq import Groq\n",
    "groqClient = Groq(\n",
    "    # This is the default and can be omitted\n",
    "    api_key=\"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\",\n",
    ")"
   ]
  },
  {
   "cell_type": "code",
   "execution_count": 49,
   "metadata": {},
   "outputs": [
    {
     "name": "stdout",
     "output_type": "stream",
     "text": [
      "{\n",
      "    \"product\": \"Credit card\",\n",
      "    \"complaint_what_happened\": \"My business is based in California, but I reside in Arizona. I planned a get-together and business meeting, and a family friend recommended a local pizzeria that offers such services. The owner requested the full amount upfront, plus a credit card on file. Since it was a referral, I didn’t think much of it. However, the problems began shortly after. A few days later, I noticed that I was charged approximately XXXX. When I contacted the owner via text message, he said he would look into it and get back to me, but the issue remained unresolved.\\n\\nFrustrated, I asked to cancel the service altogether. XXXX or XXXX asked for a week to process the refund, and I agreed. Two weeks passed, and I ended up filing a dispute with my bank, providing them with the text messages that included information about the incorrect charge and the owner’s promise to refund me. However, the bank came back to me stating that I had actually been there and used the services.\\n\\nI explained to the bank that I was in a different state at the time, but they sent me documents showing a receipt with a signature they claimed was mine. I informed them that the signature was not mine and that my signature on record with the bank is different. To this day, the issue remains unresolved and is still under investigation.\\n\\nI have also filed a complaint with XXXX XXXX Office of Consumer Protection Agency, but I have yet to receive a response.\\n\\nYour case number: XXXX\\n\\nThis issue is with Chase Bank XXXX\",\n",
      "    \"issue\": \"Problem with a purchase shown on your statement\",\n",
      "    \"sub_product\": \"General-purpose credit card or charge card\",\n",
      "    \"sub_issue\": \"Card was charged for something you did not purchase with the card\"\n",
      "}\n"
     ]
    }
   ],
   "source": [
    "system_prompt = \"\"\"Given a user's complaint as a regular text and a couple of stored similar complaints, categorize the \n",
    "current user's complaint using the following keys in the similar complaints: 'product', 'issue', 'subproduct', and 'subissue'.\n",
    "Try as much as possible to use one of the given values of each of these keys only when they are related, otherwise you can form the best value for it.\n",
    "\n",
    "Return specifically in the JSON format below:\n",
    "{\n",
    "    \"product\": str, \n",
    "    \"complaint_what_happened\": (The user's complaint)\n",
    "    \"issue\": str, \n",
    "    \"sub_product\": str, \n",
    "    \"sub_issue\": str, \n",
    "}\n",
    " \n",
    "\"\"\"\n",
    "\n",
    "chat_completion = groqClient.chat.completions.create(\n",
    "    messages=[\n",
    "        {\n",
    "            \"role\": \"system\",\n",
    "            \"content\": system_prompt\n",
    "        },\n",
    "        {\n",
    "            \"role\": \"user\",\n",
    "            \"content\": 'Categorize this complaint: {0}\\nUsing these similar complaints: {1}'.format(user_complaint, related_records_str)\n",
    "        }\n",
    "    ],\n",
    "    model=\"llama3-8b-8192\",\n",
    "    response_format={\"type\": \"json_object\"}\n",
    ")\n",
    "\n",
    "print(chat_completion.choices[0].message.content)"
   ]
  }
 ],
 "metadata": {
  "kernelspec": {
   "display_name": "Python 3",
   "language": "python",
   "name": "python3"
  },
  "language_info": {
   "codemirror_mode": {
    "name": "ipython",
    "version": 3
   },
   "file_extension": ".py",
   "mimetype": "text/x-python",
   "name": "python",
   "nbconvert_exporter": "python",
   "pygments_lexer": "ipython3",
   "version": "3.12.0"
  }
 },
 "nbformat": 4,
 "nbformat_minor": 2
}
